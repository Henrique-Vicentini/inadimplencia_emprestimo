{
 "cells": [
  {
   "cell_type": "code",
   "execution_count": 1,
   "id": "e4e3b7c5",
   "metadata": {},
   "outputs": [],
   "source": [
    "import pandas as pd\n",
    "import matplotlib.pyplot as plt"
   ]
  },
  {
   "cell_type": "code",
   "execution_count": 3,
   "id": "28305fd5",
   "metadata": {},
   "outputs": [
    {
     "data": {
      "text/html": [
       "<div>\n",
       "<style scoped>\n",
       "    .dataframe tbody tr th:only-of-type {\n",
       "        vertical-align: middle;\n",
       "    }\n",
       "\n",
       "    .dataframe tbody tr th {\n",
       "        vertical-align: top;\n",
       "    }\n",
       "\n",
       "    .dataframe thead th {\n",
       "        text-align: right;\n",
       "    }\n",
       "</style>\n",
       "<table border=\"1\" class=\"dataframe\">\n",
       "  <thead>\n",
       "    <tr style=\"text-align: right;\">\n",
       "      <th></th>\n",
       "      <th>ID</th>\n",
       "      <th>idade</th>\n",
       "      <th>experiencia</th>\n",
       "      <th>tempo_endereco</th>\n",
       "      <th>renda</th>\n",
       "      <th>debito_renda</th>\n",
       "      <th>cred_deb</th>\n",
       "      <th>outros_debitos</th>\n",
       "      <th>classif</th>\n",
       "    </tr>\n",
       "  </thead>\n",
       "  <tbody>\n",
       "    <tr>\n",
       "      <th>0</th>\n",
       "      <td>1</td>\n",
       "      <td>41</td>\n",
       "      <td>17</td>\n",
       "      <td>12</td>\n",
       "      <td>35.9</td>\n",
       "      <td>11.90</td>\n",
       "      <td>0.504108</td>\n",
       "      <td>3.767992</td>\n",
       "      <td>0</td>\n",
       "    </tr>\n",
       "    <tr>\n",
       "      <th>1</th>\n",
       "      <td>2</td>\n",
       "      <td>30</td>\n",
       "      <td>13</td>\n",
       "      <td>8</td>\n",
       "      <td>46.7</td>\n",
       "      <td>17.88</td>\n",
       "      <td>1.352694</td>\n",
       "      <td>6.997266</td>\n",
       "      <td>0</td>\n",
       "    </tr>\n",
       "    <tr>\n",
       "      <th>2</th>\n",
       "      <td>3</td>\n",
       "      <td>40</td>\n",
       "      <td>15</td>\n",
       "      <td>14</td>\n",
       "      <td>61.8</td>\n",
       "      <td>10.64</td>\n",
       "      <td>3.438997</td>\n",
       "      <td>3.136523</td>\n",
       "      <td>0</td>\n",
       "    </tr>\n",
       "    <tr>\n",
       "      <th>3</th>\n",
       "      <td>4</td>\n",
       "      <td>41</td>\n",
       "      <td>15</td>\n",
       "      <td>14</td>\n",
       "      <td>72.0</td>\n",
       "      <td>29.67</td>\n",
       "      <td>4.165668</td>\n",
       "      <td>17.196732</td>\n",
       "      <td>0</td>\n",
       "    </tr>\n",
       "    <tr>\n",
       "      <th>4</th>\n",
       "      <td>5</td>\n",
       "      <td>57</td>\n",
       "      <td>7</td>\n",
       "      <td>37</td>\n",
       "      <td>25.6</td>\n",
       "      <td>15.86</td>\n",
       "      <td>1.498199</td>\n",
       "      <td>2.561961</td>\n",
       "      <td>0</td>\n",
       "    </tr>\n",
       "  </tbody>\n",
       "</table>\n",
       "</div>"
      ],
      "text/plain": [
       "   ID  idade  experiencia  tempo_endereco  renda  debito_renda  cred_deb  \\\n",
       "0   1     41           17              12   35.9         11.90  0.504108   \n",
       "1   2     30           13               8   46.7         17.88  1.352694   \n",
       "2   3     40           15              14   61.8         10.64  3.438997   \n",
       "3   4     41           15              14   72.0         29.67  4.165668   \n",
       "4   5     57            7              37   25.6         15.86  1.498199   \n",
       "\n",
       "   outros_debitos  classif  \n",
       "0        3.767992        0  \n",
       "1        6.997266        0  \n",
       "2        3.136523        0  \n",
       "3       17.196732        0  \n",
       "4        2.561961        0  "
      ]
     },
     "execution_count": 3,
     "metadata": {},
     "output_type": "execute_result"
    }
   ],
   "source": [
    "df = pd.read_excel(r\"C:\\Users\\Brind\\Downloads\\Emprestimo.xlsx\", sheet_name= 'Base_de_Dados')\n",
    "df.head()"
   ]
  },
  {
   "cell_type": "code",
   "execution_count": 4,
   "id": "d34005dc",
   "metadata": {},
   "outputs": [
    {
     "name": "stdout",
     "output_type": "stream",
     "text": [
      "<class 'pandas.core.frame.DataFrame'>\n",
      "RangeIndex: 5000 entries, 0 to 4999\n",
      "Data columns (total 9 columns):\n",
      " #   Column          Non-Null Count  Dtype  \n",
      "---  ------          --------------  -----  \n",
      " 0   ID              5000 non-null   int64  \n",
      " 1   idade           5000 non-null   int64  \n",
      " 2   experiencia     5000 non-null   int64  \n",
      " 3   tempo_endereco  5000 non-null   int64  \n",
      " 4   renda           5000 non-null   float64\n",
      " 5   debito_renda    5000 non-null   float64\n",
      " 6   cred_deb        5000 non-null   float64\n",
      " 7   outros_debitos  5000 non-null   float64\n",
      " 8   classif         5000 non-null   int64  \n",
      "dtypes: float64(4), int64(5)\n",
      "memory usage: 351.7 KB\n"
     ]
    }
   ],
   "source": [
    "#ver tipos de variaveis e tamanho de DF\n",
    "df.info()"
   ]
  },
  {
   "cell_type": "code",
   "execution_count": 6,
   "id": "558b89a8",
   "metadata": {},
   "outputs": [
    {
     "data": {
      "text/plain": [
       "ID                0\n",
       "idade             0\n",
       "experiencia       0\n",
       "tempo_endereco    0\n",
       "renda             0\n",
       "debito_renda      0\n",
       "cred_deb          0\n",
       "outros_debitos    0\n",
       "classif           0\n",
       "dtype: int64"
      ]
     },
     "execution_count": 6,
     "metadata": {},
     "output_type": "execute_result"
    }
   ],
   "source": [
    "#ver se de fato nao há dados nulos\n",
    "df.isna().sum()"
   ]
  },
  {
   "cell_type": "code",
   "execution_count": 7,
   "id": "9b982a44",
   "metadata": {},
   "outputs": [
    {
     "data": {
      "text/html": [
       "<div>\n",
       "<style scoped>\n",
       "    .dataframe tbody tr th:only-of-type {\n",
       "        vertical-align: middle;\n",
       "    }\n",
       "\n",
       "    .dataframe tbody tr th {\n",
       "        vertical-align: top;\n",
       "    }\n",
       "\n",
       "    .dataframe thead th {\n",
       "        text-align: right;\n",
       "    }\n",
       "</style>\n",
       "<table border=\"1\" class=\"dataframe\">\n",
       "  <thead>\n",
       "    <tr style=\"text-align: right;\">\n",
       "      <th></th>\n",
       "      <th>ID</th>\n",
       "      <th>idade</th>\n",
       "      <th>experiencia</th>\n",
       "      <th>tempo_endereco</th>\n",
       "      <th>renda</th>\n",
       "      <th>debito_renda</th>\n",
       "      <th>cred_deb</th>\n",
       "      <th>outros_debitos</th>\n",
       "      <th>classif</th>\n",
       "    </tr>\n",
       "  </thead>\n",
       "  <tbody>\n",
       "    <tr>\n",
       "      <th>count</th>\n",
       "      <td>5000.000000</td>\n",
       "      <td>5000.000000</td>\n",
       "      <td>5000.000000</td>\n",
       "      <td>5000.000000</td>\n",
       "      <td>5000.000000</td>\n",
       "      <td>5000.000000</td>\n",
       "      <td>5000.000000</td>\n",
       "      <td>5000.000000</td>\n",
       "      <td>5000.000000</td>\n",
       "    </tr>\n",
       "    <tr>\n",
       "      <th>mean</th>\n",
       "      <td>2500.500000</td>\n",
       "      <td>35.387200</td>\n",
       "      <td>8.703800</td>\n",
       "      <td>8.154000</td>\n",
       "      <td>47.676980</td>\n",
       "      <td>10.075984</td>\n",
       "      <td>1.628071</td>\n",
       "      <td>3.218582</td>\n",
       "      <td>0.251200</td>\n",
       "    </tr>\n",
       "    <tr>\n",
       "      <th>std</th>\n",
       "      <td>1443.520003</td>\n",
       "      <td>7.948403</td>\n",
       "      <td>7.194583</td>\n",
       "      <td>6.760786</td>\n",
       "      <td>51.793192</td>\n",
       "      <td>6.659336</td>\n",
       "      <td>3.053369</td>\n",
       "      <td>6.944523</td>\n",
       "      <td>0.433747</td>\n",
       "    </tr>\n",
       "    <tr>\n",
       "      <th>min</th>\n",
       "      <td>1.000000</td>\n",
       "      <td>20.000000</td>\n",
       "      <td>0.000000</td>\n",
       "      <td>0.000000</td>\n",
       "      <td>12.100000</td>\n",
       "      <td>0.080000</td>\n",
       "      <td>0.005292</td>\n",
       "      <td>0.009373</td>\n",
       "      <td>0.000000</td>\n",
       "    </tr>\n",
       "    <tr>\n",
       "      <th>25%</th>\n",
       "      <td>1250.750000</td>\n",
       "      <td>29.000000</td>\n",
       "      <td>3.000000</td>\n",
       "      <td>3.000000</td>\n",
       "      <td>24.500000</td>\n",
       "      <td>5.050000</td>\n",
       "      <td>0.396181</td>\n",
       "      <td>0.990071</td>\n",
       "      <td>0.000000</td>\n",
       "    </tr>\n",
       "    <tr>\n",
       "      <th>50%</th>\n",
       "      <td>2500.500000</td>\n",
       "      <td>35.000000</td>\n",
       "      <td>7.000000</td>\n",
       "      <td>7.000000</td>\n",
       "      <td>34.500000</td>\n",
       "      <td>8.635000</td>\n",
       "      <td>0.906189</td>\n",
       "      <td>1.960223</td>\n",
       "      <td>0.000000</td>\n",
       "    </tr>\n",
       "    <tr>\n",
       "      <th>75%</th>\n",
       "      <td>3750.250000</td>\n",
       "      <td>41.000000</td>\n",
       "      <td>13.000000</td>\n",
       "      <td>12.000000</td>\n",
       "      <td>54.725000</td>\n",
       "      <td>13.682500</td>\n",
       "      <td>1.859147</td>\n",
       "      <td>3.789633</td>\n",
       "      <td>1.000000</td>\n",
       "    </tr>\n",
       "    <tr>\n",
       "      <th>max</th>\n",
       "      <td>5000.000000</td>\n",
       "      <td>58.000000</td>\n",
       "      <td>38.000000</td>\n",
       "      <td>37.000000</td>\n",
       "      <td>2461.700000</td>\n",
       "      <td>44.620000</td>\n",
       "      <td>139.580606</td>\n",
       "      <td>416.517424</td>\n",
       "      <td>1.000000</td>\n",
       "    </tr>\n",
       "  </tbody>\n",
       "</table>\n",
       "</div>"
      ],
      "text/plain": [
       "                ID        idade  experiencia  tempo_endereco        renda  \\\n",
       "count  5000.000000  5000.000000  5000.000000     5000.000000  5000.000000   \n",
       "mean   2500.500000    35.387200     8.703800        8.154000    47.676980   \n",
       "std    1443.520003     7.948403     7.194583        6.760786    51.793192   \n",
       "min       1.000000    20.000000     0.000000        0.000000    12.100000   \n",
       "25%    1250.750000    29.000000     3.000000        3.000000    24.500000   \n",
       "50%    2500.500000    35.000000     7.000000        7.000000    34.500000   \n",
       "75%    3750.250000    41.000000    13.000000       12.000000    54.725000   \n",
       "max    5000.000000    58.000000    38.000000       37.000000  2461.700000   \n",
       "\n",
       "       debito_renda     cred_deb  outros_debitos      classif  \n",
       "count   5000.000000  5000.000000     5000.000000  5000.000000  \n",
       "mean      10.075984     1.628071        3.218582     0.251200  \n",
       "std        6.659336     3.053369        6.944523     0.433747  \n",
       "min        0.080000     0.005292        0.009373     0.000000  \n",
       "25%        5.050000     0.396181        0.990071     0.000000  \n",
       "50%        8.635000     0.906189        1.960223     0.000000  \n",
       "75%       13.682500     1.859147        3.789633     1.000000  \n",
       "max       44.620000   139.580606      416.517424     1.000000  "
      ]
     },
     "execution_count": 7,
     "metadata": {},
     "output_type": "execute_result"
    }
   ],
   "source": [
    "#valores de dispersões básicas\n",
    "df.describe()"
   ]
  },
  {
   "cell_type": "markdown",
   "id": "94bef5bc",
   "metadata": {},
   "source": [
    "- Para modelagem será necessário fazer tratamento com StandartScaler           "
   ]
  },
  {
   "cell_type": "markdown",
   "id": "eed86e95",
   "metadata": {},
   "source": [
    "# Questão 1\n",
    "- Qual o percentual de clientes inadimplentes na base (classif=1); "
   ]
  },
  {
   "cell_type": "code",
   "execution_count": 11,
   "id": "56c6d04d",
   "metadata": {},
   "outputs": [
    {
     "data": {
      "text/plain": [
       "0    74.88\n",
       "1    25.12\n",
       "Name: classif, dtype: float64"
      ]
     },
     "execution_count": 11,
     "metadata": {},
     "output_type": "execute_result"
    }
   ],
   "source": [
    "df['classif'].value_counts(normalize = True, dropna = False)*100"
   ]
  },
  {
   "cell_type": "markdown",
   "id": "d54df28f",
   "metadata": {},
   "source": [
    "# Resposta : Percentual de inadimplente é 25,12%"
   ]
  },
  {
   "cell_type": "markdown",
   "id": "0943a722",
   "metadata": {},
   "source": [
    "# Questão 2\n",
    "- Faça uma análise exploratória univariada e bivariada das variáveis; "
   ]
  },
  {
   "cell_type": "code",
   "execution_count": 12,
   "id": "31fd67c4",
   "metadata": {},
   "outputs": [
    {
     "data": {
      "text/plain": [
       "Index(['ID', 'idade', 'experiencia', 'tempo_endereco', 'renda', 'debito_renda',\n",
       "       'cred_deb', 'outros_debitos', 'classif'],\n",
       "      dtype='object')"
      ]
     },
     "execution_count": 12,
     "metadata": {},
     "output_type": "execute_result"
    }
   ],
   "source": [
    "df.columns"
   ]
  },
  {
   "cell_type": "code",
   "execution_count": 14,
   "id": "44df3447",
   "metadata": {},
   "outputs": [
    {
     "data": {
      "text/html": [
       "<div>\n",
       "<style scoped>\n",
       "    .dataframe tbody tr th:only-of-type {\n",
       "        vertical-align: middle;\n",
       "    }\n",
       "\n",
       "    .dataframe tbody tr th {\n",
       "        vertical-align: top;\n",
       "    }\n",
       "\n",
       "    .dataframe thead th {\n",
       "        text-align: right;\n",
       "    }\n",
       "</style>\n",
       "<table border=\"1\" class=\"dataframe\">\n",
       "  <thead>\n",
       "    <tr style=\"text-align: right;\">\n",
       "      <th></th>\n",
       "      <th>ID</th>\n",
       "      <th>idade</th>\n",
       "      <th>experiencia</th>\n",
       "      <th>tempo_endereco</th>\n",
       "      <th>renda</th>\n",
       "      <th>debito_renda</th>\n",
       "      <th>cred_deb</th>\n",
       "      <th>outros_debitos</th>\n",
       "      <th>classif</th>\n",
       "    </tr>\n",
       "  </thead>\n",
       "  <tbody>\n",
       "    <tr>\n",
       "      <th>count</th>\n",
       "      <td>5000.000000</td>\n",
       "      <td>5000.000000</td>\n",
       "      <td>5000.000000</td>\n",
       "      <td>5000.000000</td>\n",
       "      <td>5000.000000</td>\n",
       "      <td>5000.000000</td>\n",
       "      <td>5000.000000</td>\n",
       "      <td>5000.000000</td>\n",
       "      <td>5000.000000</td>\n",
       "    </tr>\n",
       "    <tr>\n",
       "      <th>mean</th>\n",
       "      <td>2500.500000</td>\n",
       "      <td>35.387200</td>\n",
       "      <td>8.703800</td>\n",
       "      <td>8.154000</td>\n",
       "      <td>47.676980</td>\n",
       "      <td>10.075984</td>\n",
       "      <td>1.628071</td>\n",
       "      <td>3.218582</td>\n",
       "      <td>0.251200</td>\n",
       "    </tr>\n",
       "    <tr>\n",
       "      <th>std</th>\n",
       "      <td>1443.520003</td>\n",
       "      <td>7.948403</td>\n",
       "      <td>7.194583</td>\n",
       "      <td>6.760786</td>\n",
       "      <td>51.793192</td>\n",
       "      <td>6.659336</td>\n",
       "      <td>3.053369</td>\n",
       "      <td>6.944523</td>\n",
       "      <td>0.433747</td>\n",
       "    </tr>\n",
       "    <tr>\n",
       "      <th>min</th>\n",
       "      <td>1.000000</td>\n",
       "      <td>20.000000</td>\n",
       "      <td>0.000000</td>\n",
       "      <td>0.000000</td>\n",
       "      <td>12.100000</td>\n",
       "      <td>0.080000</td>\n",
       "      <td>0.005292</td>\n",
       "      <td>0.009373</td>\n",
       "      <td>0.000000</td>\n",
       "    </tr>\n",
       "    <tr>\n",
       "      <th>25%</th>\n",
       "      <td>1250.750000</td>\n",
       "      <td>29.000000</td>\n",
       "      <td>3.000000</td>\n",
       "      <td>3.000000</td>\n",
       "      <td>24.500000</td>\n",
       "      <td>5.050000</td>\n",
       "      <td>0.396181</td>\n",
       "      <td>0.990071</td>\n",
       "      <td>0.000000</td>\n",
       "    </tr>\n",
       "    <tr>\n",
       "      <th>50%</th>\n",
       "      <td>2500.500000</td>\n",
       "      <td>35.000000</td>\n",
       "      <td>7.000000</td>\n",
       "      <td>7.000000</td>\n",
       "      <td>34.500000</td>\n",
       "      <td>8.635000</td>\n",
       "      <td>0.906189</td>\n",
       "      <td>1.960223</td>\n",
       "      <td>0.000000</td>\n",
       "    </tr>\n",
       "    <tr>\n",
       "      <th>75%</th>\n",
       "      <td>3750.250000</td>\n",
       "      <td>41.000000</td>\n",
       "      <td>13.000000</td>\n",
       "      <td>12.000000</td>\n",
       "      <td>54.725000</td>\n",
       "      <td>13.682500</td>\n",
       "      <td>1.859147</td>\n",
       "      <td>3.789633</td>\n",
       "      <td>1.000000</td>\n",
       "    </tr>\n",
       "    <tr>\n",
       "      <th>max</th>\n",
       "      <td>5000.000000</td>\n",
       "      <td>58.000000</td>\n",
       "      <td>38.000000</td>\n",
       "      <td>37.000000</td>\n",
       "      <td>2461.700000</td>\n",
       "      <td>44.620000</td>\n",
       "      <td>139.580606</td>\n",
       "      <td>416.517424</td>\n",
       "      <td>1.000000</td>\n",
       "    </tr>\n",
       "  </tbody>\n",
       "</table>\n",
       "</div>"
      ],
      "text/plain": [
       "                ID        idade  experiencia  tempo_endereco        renda  \\\n",
       "count  5000.000000  5000.000000  5000.000000     5000.000000  5000.000000   \n",
       "mean   2500.500000    35.387200     8.703800        8.154000    47.676980   \n",
       "std    1443.520003     7.948403     7.194583        6.760786    51.793192   \n",
       "min       1.000000    20.000000     0.000000        0.000000    12.100000   \n",
       "25%    1250.750000    29.000000     3.000000        3.000000    24.500000   \n",
       "50%    2500.500000    35.000000     7.000000        7.000000    34.500000   \n",
       "75%    3750.250000    41.000000    13.000000       12.000000    54.725000   \n",
       "max    5000.000000    58.000000    38.000000       37.000000  2461.700000   \n",
       "\n",
       "       debito_renda     cred_deb  outros_debitos      classif  \n",
       "count   5000.000000  5000.000000     5000.000000  5000.000000  \n",
       "mean      10.075984     1.628071        3.218582     0.251200  \n",
       "std        6.659336     3.053369        6.944523     0.433747  \n",
       "min        0.080000     0.005292        0.009373     0.000000  \n",
       "25%        5.050000     0.396181        0.990071     0.000000  \n",
       "50%        8.635000     0.906189        1.960223     0.000000  \n",
       "75%       13.682500     1.859147        3.789633     1.000000  \n",
       "max       44.620000   139.580606      416.517424     1.000000  "
      ]
     },
     "execution_count": 14,
     "metadata": {},
     "output_type": "execute_result"
    }
   ],
   "source": [
    "df.describe()"
   ]
  },
  {
   "cell_type": "code",
   "execution_count": 16,
   "id": "4b84ec57",
   "metadata": {},
   "outputs": [
    {
     "name": "stdout",
     "output_type": "stream",
     "text": [
      "1       1\n",
      "3331    1\n",
      "3338    1\n",
      "3337    1\n",
      "3336    1\n",
      "       ..\n",
      "1667    1\n",
      "1666    1\n",
      "1665    1\n",
      "1664    1\n",
      "5000    1\n",
      "Name: ID, Length: 5000, dtype: int64\n",
      "33    250\n",
      "31    228\n",
      "32    227\n",
      "36    216\n",
      "29    214\n",
      "30    212\n",
      "28    212\n",
      "37    209\n",
      "34    205\n",
      "35    201\n",
      "39    192\n",
      "26    192\n",
      "38    190\n",
      "41    180\n",
      "40    175\n",
      "27    171\n",
      "43    161\n",
      "42    156\n",
      "25    151\n",
      "44    141\n",
      "24    139\n",
      "45    134\n",
      "46    107\n",
      "23     98\n",
      "47     84\n",
      "48     83\n",
      "49     81\n",
      "22     79\n",
      "50     62\n",
      "21     54\n",
      "51     53\n",
      "52     35\n",
      "54     28\n",
      "53     27\n",
      "55     21\n",
      "20     18\n",
      "56      9\n",
      "57      3\n",
      "58      2\n",
      "Name: idade, dtype: int64\n",
      "0     391\n",
      "1     367\n",
      "2     349\n",
      "4     318\n",
      "3     316\n",
      "5     302\n",
      "7     298\n",
      "6     293\n",
      "8     243\n",
      "9     234\n",
      "10    210\n",
      "11    187\n",
      "12    172\n",
      "13    155\n",
      "14    146\n",
      "15    140\n",
      "17    131\n",
      "16    121\n",
      "18     84\n",
      "19     81\n",
      "20     69\n",
      "21     69\n",
      "22     58\n",
      "23     48\n",
      "24     40\n",
      "25     35\n",
      "26     27\n",
      "27     26\n",
      "28     18\n",
      "30     17\n",
      "29     16\n",
      "34      8\n",
      "31      8\n",
      "32      7\n",
      "35      5\n",
      "36      5\n",
      "33      3\n",
      "37      2\n",
      "38      1\n",
      "Name: experiencia, dtype: int64\n",
      "2     407\n",
      "1     401\n",
      "3     361\n",
      "0     357\n",
      "4     350\n",
      "5     317\n",
      "7     299\n",
      "6     288\n",
      "8     244\n",
      "9     235\n",
      "10    201\n",
      "12    187\n",
      "11    175\n",
      "13    156\n",
      "14    138\n",
      "15    127\n",
      "16    113\n",
      "17     99\n",
      "18     91\n",
      "21     76\n",
      "20     65\n",
      "19     64\n",
      "22     50\n",
      "23     38\n",
      "25     33\n",
      "24     33\n",
      "26     22\n",
      "27     21\n",
      "29     14\n",
      "30      9\n",
      "28      9\n",
      "31      6\n",
      "32      6\n",
      "34      3\n",
      "35      2\n",
      "37      1\n",
      "33      1\n",
      "36      1\n",
      "Name: tempo_endereco, dtype: int64\n",
      "20.3     24\n",
      "27.5     23\n",
      "21.8     23\n",
      "25.1     22\n",
      "20.0     22\n",
      "         ..\n",
      "211.2     1\n",
      "91.8      1\n",
      "87.0      1\n",
      "134.7     1\n",
      "248.3     1\n",
      "Name: renda, Length: 1100, dtype: int64\n",
      "6.88     10\n",
      "6.99     10\n",
      "9.45      9\n",
      "3.72      9\n",
      "8.31      9\n",
      "         ..\n",
      "26.22     1\n",
      "0.46      1\n",
      "25.70     1\n",
      "18.45     1\n",
      "24.80     1\n",
      "Name: debito_renda, Length: 2060, dtype: int64\n",
      "0.362009    2\n",
      "0.945405    1\n",
      "2.930463    1\n",
      "0.336498    1\n",
      "0.207331    1\n",
      "           ..\n",
      "3.039067    1\n",
      "1.753409    1\n",
      "0.816907    1\n",
      "0.624556    1\n",
      "0.623790    1\n",
      "Name: cred_deb, Length: 4999, dtype: int64\n",
      "1.836021    2\n",
      "3.767992    1\n",
      "4.174420    1\n",
      "1.820542    1\n",
      "0.446709    1\n",
      "           ..\n",
      "9.117202    1\n",
      "7.378931    1\n",
      "1.321593    1\n",
      "0.454124    1\n",
      "1.168710    1\n",
      "Name: outros_debitos, Length: 4999, dtype: int64\n",
      "0    3744\n",
      "1    1256\n",
      "Name: classif, dtype: int64\n"
     ]
    }
   ],
   "source": [
    "for colum in df.columns: \n",
    "    print(df[colum].value_counts())"
   ]
  },
  {
   "cell_type": "code",
   "execution_count": 175,
   "id": "4009885c",
   "metadata": {},
   "outputs": [
    {
     "data": {
      "text/plain": [
       "Index(['ID', 'idade', 'experiencia', 'tempo_endereco', 'renda', 'debito_renda',\n",
       "       'cred_deb', 'outros_debitos', 'classif'],\n",
       "      dtype='object')"
      ]
     },
     "execution_count": 175,
     "metadata": {},
     "output_type": "execute_result"
    }
   ],
   "source": [
    "df.columns"
   ]
  },
  {
   "cell_type": "code",
   "execution_count": 176,
   "id": "fc23fbf2",
   "metadata": {},
   "outputs": [
    {
     "data": {
      "text/html": [
       "<div>\n",
       "<style scoped>\n",
       "    .dataframe tbody tr th:only-of-type {\n",
       "        vertical-align: middle;\n",
       "    }\n",
       "\n",
       "    .dataframe tbody tr th {\n",
       "        vertical-align: top;\n",
       "    }\n",
       "\n",
       "    .dataframe thead th {\n",
       "        text-align: right;\n",
       "    }\n",
       "</style>\n",
       "<table border=\"1\" class=\"dataframe\">\n",
       "  <thead>\n",
       "    <tr style=\"text-align: right;\">\n",
       "      <th></th>\n",
       "      <th>idade</th>\n",
       "      <th>experiencia</th>\n",
       "      <th>tempo_endereco</th>\n",
       "      <th>renda</th>\n",
       "      <th>debito_renda</th>\n",
       "      <th>cred_deb</th>\n",
       "      <th>outros_debitos</th>\n",
       "    </tr>\n",
       "    <tr>\n",
       "      <th>classif</th>\n",
       "      <th></th>\n",
       "      <th></th>\n",
       "      <th></th>\n",
       "      <th></th>\n",
       "      <th></th>\n",
       "      <th></th>\n",
       "      <th></th>\n",
       "    </tr>\n",
       "  </thead>\n",
       "  <tbody>\n",
       "    <tr>\n",
       "      <th>0</th>\n",
       "      <td>36.236645</td>\n",
       "      <td>9.782051</td>\n",
       "      <td>8.974893</td>\n",
       "      <td>48.908600</td>\n",
       "      <td>8.612946</td>\n",
       "      <td>1.297557</td>\n",
       "      <td>2.895339</td>\n",
       "    </tr>\n",
       "    <tr>\n",
       "      <th>1</th>\n",
       "      <td>32.855096</td>\n",
       "      <td>5.489650</td>\n",
       "      <td>5.707006</td>\n",
       "      <td>44.005653</td>\n",
       "      <td>14.437142</td>\n",
       "      <td>2.613296</td>\n",
       "      <td>4.182136</td>\n",
       "    </tr>\n",
       "  </tbody>\n",
       "</table>\n",
       "</div>"
      ],
      "text/plain": [
       "             idade  experiencia  tempo_endereco      renda  debito_renda  \\\n",
       "classif                                                                    \n",
       "0        36.236645     9.782051        8.974893  48.908600      8.612946   \n",
       "1        32.855096     5.489650        5.707006  44.005653     14.437142   \n",
       "\n",
       "         cred_deb  outros_debitos  \n",
       "classif                            \n",
       "0        1.297557        2.895339  \n",
       "1        2.613296        4.182136  "
      ]
     },
     "execution_count": 176,
     "metadata": {},
     "output_type": "execute_result"
    }
   ],
   "source": [
    "df_group = df.groupby('classif').agg({'idade' : 'mean',\n",
    "                                     'experiencia': 'mean',\n",
    "                                      'tempo_endereco' : 'mean',\n",
    "                                      'renda' : 'mean', \n",
    "                                      'debito_renda' : 'mean',\n",
    "                                       'cred_deb' : 'mean',\n",
    "                                      'outros_debitos' : 'mean'\n",
    "                                     })\n",
    "df_group"
   ]
  },
  {
   "cell_type": "markdown",
   "id": "4268e53d",
   "metadata": {},
   "source": [
    "# Resposta\n",
    "- Todas as variáveis são do tipo quantitativas(tanto discretas quanto contínuas)\n",
    "- Conseguimos observar também os valors máximos e mínimos de cada uma das colunas, assim como seus valores médios, seus quartis e o desvio padrão\n",
    "- através do value counts conseguimos perceber as frequências de cada um das variáveis, podemos pegar a frequencia em valor numérico simples ou podemos pegar em valores percentuais\n",
    "- Para variáveis contínuas é mais dificil ver uma contagem ou valores percentuais devido sua grande variedade\n",
    "- Logo para as variáveis contínuas, devemos criar faixas para sua análise para diminuir a quantidade numérica dela\n",
    "- quando fazemos todas as médias e segmentamos pela classificação de inadimplencia também vemos informações importantes como: a idade não parece ser um fator influenciante, pois a média é parecida, mas o tempo de experiencia é o dobro quando falamos sobre isso, entao podemos montar padrões e segmentar nossos clientes\n",
    "- podemos fazer o mesmo para observarmos a idade mínima das ou renda mínima para podermos limitar a entrada de clientes na base e evitar a inadimplencia"
   ]
  },
  {
   "cell_type": "markdown",
   "id": "52d35f9b",
   "metadata": {},
   "source": [
    "# Questão 3\n",
    "- Há algum outlier que mereça atenção? Há dados faltantes? "
   ]
  },
  {
   "cell_type": "code",
   "execution_count": 44,
   "id": "5ba917bc",
   "metadata": {},
   "outputs": [
    {
     "data": {
      "text/plain": [
       "ID                0\n",
       "idade             0\n",
       "experiencia       0\n",
       "tempo_endereco    0\n",
       "renda             0\n",
       "debito_renda      0\n",
       "cred_deb          0\n",
       "outros_debitos    0\n",
       "classif           0\n",
       "dtype: int64"
      ]
     },
     "execution_count": 44,
     "metadata": {},
     "output_type": "execute_result"
    }
   ],
   "source": [
    "df.isna().sum()"
   ]
  },
  {
   "cell_type": "code",
   "execution_count": 43,
   "id": "82484475",
   "metadata": {},
   "outputs": [
    {
     "data": {
      "text/plain": [
       "<AxesSubplot:>"
      ]
     },
     "execution_count": 43,
     "metadata": {},
     "output_type": "execute_result"
    },
    {
     "data": {
      "image/png": "[encoded data removed]",
      "text/plain": [
       "<Figure size 1440x576 with 1 Axes>"
      ]
     },
     "metadata": {
      "needs_background": "light"
     },
     "output_type": "display_data"
    }
   ],
   "source": [
    "df.boxplot(figsize=(20 , 8))"
   ]
  },
  {
   "cell_type": "markdown",
   "id": "b6eba2f5",
   "metadata": {},
   "source": [
    "# Resposta\n",
    "- Não há nenhum dado faltante\n",
    "- Há um outlier que precisa ser levado em consideração na parte da renda e um em outros debito"
   ]
  },
  {
   "cell_type": "markdown",
   "id": "de0a9354",
   "metadata": {},
   "source": [
    "# Questão 4 (repetida)\n",
    "- Qual o percentual de clientes inadimplentes na base (classif=1); "
   ]
  },
  {
   "cell_type": "markdown",
   "id": "3cd85599",
   "metadata": {},
   "source": [
    "# Resposta : Percentual de inadimplente é 25,12%"
   ]
  },
  {
   "cell_type": "markdown",
   "id": "fd6fc694",
   "metadata": {},
   "source": [
    "# Questão 5\n",
    "- Verifique se há correlação entre as variáveis. Faça uma lista das variáveis por ordem de importância para a predição da variável classif;"
   ]
  },
  {
   "cell_type": "code",
   "execution_count": 45,
   "id": "442dbc9a",
   "metadata": {},
   "outputs": [
    {
     "data": {
      "text/html": [
       "<div>\n",
       "<style scoped>\n",
       "    .dataframe tbody tr th:only-of-type {\n",
       "        vertical-align: middle;\n",
       "    }\n",
       "\n",
       "    .dataframe tbody tr th {\n",
       "        vertical-align: top;\n",
       "    }\n",
       "\n",
       "    .dataframe thead th {\n",
       "        text-align: right;\n",
       "    }\n",
       "</style>\n",
       "<table border=\"1\" class=\"dataframe\">\n",
       "  <thead>\n",
       "    <tr style=\"text-align: right;\">\n",
       "      <th></th>\n",
       "      <th>ID</th>\n",
       "      <th>idade</th>\n",
       "      <th>experiencia</th>\n",
       "      <th>tempo_endereco</th>\n",
       "      <th>renda</th>\n",
       "      <th>debito_renda</th>\n",
       "      <th>cred_deb</th>\n",
       "      <th>outros_debitos</th>\n",
       "      <th>classif</th>\n",
       "    </tr>\n",
       "  </thead>\n",
       "  <tbody>\n",
       "    <tr>\n",
       "      <th>ID</th>\n",
       "      <td>1.000000</td>\n",
       "      <td>-0.002173</td>\n",
       "      <td>0.002018</td>\n",
       "      <td>-0.007283</td>\n",
       "      <td>0.021015</td>\n",
       "      <td>-0.008571</td>\n",
       "      <td>0.008226</td>\n",
       "      <td>0.011981</td>\n",
       "      <td>0.004779</td>\n",
       "    </tr>\n",
       "    <tr>\n",
       "      <th>idade</th>\n",
       "      <td>-0.002173</td>\n",
       "      <td>1.000000</td>\n",
       "      <td>0.559011</td>\n",
       "      <td>0.580612</td>\n",
       "      <td>0.400467</td>\n",
       "      <td>-0.019714</td>\n",
       "      <td>0.222039</td>\n",
       "      <td>0.202564</td>\n",
       "      <td>-0.184532</td>\n",
       "    </tr>\n",
       "    <tr>\n",
       "      <th>experiencia</th>\n",
       "      <td>0.002018</td>\n",
       "      <td>0.559011</td>\n",
       "      <td>1.000000</td>\n",
       "      <td>0.328398</td>\n",
       "      <td>0.511006</td>\n",
       "      <td>-0.016297</td>\n",
       "      <td>0.286104</td>\n",
       "      <td>0.250384</td>\n",
       "      <td>-0.258780</td>\n",
       "    </tr>\n",
       "    <tr>\n",
       "      <th>tempo_endereco</th>\n",
       "      <td>-0.007283</td>\n",
       "      <td>0.580612</td>\n",
       "      <td>0.328398</td>\n",
       "      <td>1.000000</td>\n",
       "      <td>0.211169</td>\n",
       "      <td>-0.017647</td>\n",
       "      <td>0.103693</td>\n",
       "      <td>0.093347</td>\n",
       "      <td>-0.209655</td>\n",
       "    </tr>\n",
       "    <tr>\n",
       "      <th>renda</th>\n",
       "      <td>0.021015</td>\n",
       "      <td>0.400467</td>\n",
       "      <td>0.511006</td>\n",
       "      <td>0.211169</td>\n",
       "      <td>1.000000</td>\n",
       "      <td>0.012391</td>\n",
       "      <td>0.741948</td>\n",
       "      <td>0.816931</td>\n",
       "      <td>-0.041060</td>\n",
       "    </tr>\n",
       "    <tr>\n",
       "      <th>debito_renda</th>\n",
       "      <td>-0.008571</td>\n",
       "      <td>-0.019714</td>\n",
       "      <td>-0.016297</td>\n",
       "      <td>-0.017647</td>\n",
       "      <td>0.012391</td>\n",
       "      <td>1.000000</td>\n",
       "      <td>0.366540</td>\n",
       "      <td>0.310966</td>\n",
       "      <td>0.379351</td>\n",
       "    </tr>\n",
       "    <tr>\n",
       "      <th>cred_deb</th>\n",
       "      <td>0.008226</td>\n",
       "      <td>0.222039</td>\n",
       "      <td>0.286104</td>\n",
       "      <td>0.103693</td>\n",
       "      <td>0.741948</td>\n",
       "      <td>0.366540</td>\n",
       "      <td>1.000000</td>\n",
       "      <td>0.773914</td>\n",
       "      <td>0.186907</td>\n",
       "    </tr>\n",
       "    <tr>\n",
       "      <th>outros_debitos</th>\n",
       "      <td>0.011981</td>\n",
       "      <td>0.202564</td>\n",
       "      <td>0.250384</td>\n",
       "      <td>0.093347</td>\n",
       "      <td>0.816931</td>\n",
       "      <td>0.310966</td>\n",
       "      <td>0.773914</td>\n",
       "      <td>1.000000</td>\n",
       "      <td>0.080372</td>\n",
       "    </tr>\n",
       "    <tr>\n",
       "      <th>classif</th>\n",
       "      <td>0.004779</td>\n",
       "      <td>-0.184532</td>\n",
       "      <td>-0.258780</td>\n",
       "      <td>-0.209655</td>\n",
       "      <td>-0.041060</td>\n",
       "      <td>0.379351</td>\n",
       "      <td>0.186907</td>\n",
       "      <td>0.080372</td>\n",
       "      <td>1.000000</td>\n",
       "    </tr>\n",
       "  </tbody>\n",
       "</table>\n",
       "</div>"
      ],
      "text/plain": [
       "                      ID     idade  experiencia  tempo_endereco     renda  \\\n",
       "ID              1.000000 -0.002173     0.002018       -0.007283  0.021015   \n",
       "idade          -0.002173  1.000000     0.559011        0.580612  0.400467   \n",
       "experiencia     0.002018  0.559011     1.000000        0.328398  0.511006   \n",
       "tempo_endereco -0.007283  0.580612     0.328398        1.000000  0.211169   \n",
       "renda           0.021015  0.400467     0.511006        0.211169  1.000000   \n",
       "debito_renda   -0.008571 -0.019714    -0.016297       -0.017647  0.012391   \n",
       "cred_deb        0.008226  0.222039     0.286104        0.103693  0.741948   \n",
       "outros_debitos  0.011981  0.202564     0.250384        0.093347  0.816931   \n",
       "classif         0.004779 -0.184532    -0.258780       -0.209655 -0.041060   \n",
       "\n",
       "                debito_renda  cred_deb  outros_debitos   classif  \n",
       "ID                 -0.008571  0.008226        0.011981  0.004779  \n",
       "idade              -0.019714  0.222039        0.202564 -0.184532  \n",
       "experiencia        -0.016297  0.286104        0.250384 -0.258780  \n",
       "tempo_endereco     -0.017647  0.103693        0.093347 -0.209655  \n",
       "renda               0.012391  0.741948        0.816931 -0.041060  \n",
       "debito_renda        1.000000  0.366540        0.310966  0.379351  \n",
       "cred_deb            0.366540  1.000000        0.773914  0.186907  \n",
       "outros_debitos      0.310966  0.773914        1.000000  0.080372  \n",
       "classif             0.379351  0.186907        0.080372  1.000000  "
      ]
     },
     "execution_count": 45,
     "metadata": {},
     "output_type": "execute_result"
    }
   ],
   "source": [
    "df.corr()"
   ]
  },
  {
   "cell_type": "markdown",
   "id": "73d3832e",
   "metadata": {},
   "source": [
    "# Resposta\n",
    "- Quando falamos em correlações entre variáveis temos as correlações diretamente(valores positivos) e as inversamente proporcionais(valores negativos) e as que quase nao impactão na variavel alvo(valores próximos a 0.\n",
    "- variáveis com mais impacto na variavel classif(target): debito_renda, experiencia, tempo_endereco, cred_deb, idade. As demais tem valores bem baixos, assim nao impactando tanto nas target"
   ]
  },
  {
   "cell_type": "markdown",
   "id": "ff730523",
   "metadata": {},
   "source": [
    "# Questao 6"
   ]
  },
  {
   "cell_type": "code",
   "execution_count": 51,
   "id": "eeae571b",
   "metadata": {},
   "outputs": [],
   "source": [
    "import statsmodels.api as sm"
   ]
  },
  {
   "cell_type": "code",
   "execution_count": 47,
   "id": "bb1c0d52",
   "metadata": {},
   "outputs": [
    {
     "data": {
      "text/plain": [
       "Index(['ID', 'idade', 'experiencia', 'tempo_endereco', 'renda', 'debito_renda',\n",
       "       'cred_deb', 'outros_debitos', 'classif'],\n",
       "      dtype='object')"
      ]
     },
     "execution_count": 47,
     "metadata": {},
     "output_type": "execute_result"
    }
   ],
   "source": [
    "df.columns"
   ]
  },
  {
   "cell_type": "code",
   "execution_count": 53,
   "id": "fc28c47c",
   "metadata": {},
   "outputs": [
    {
     "name": "stdout",
     "output_type": "stream",
     "text": [
      "Optimization terminated successfully.\n",
      "         Current function value: 0.404341\n",
      "         Iterations 7\n",
      "                           Logit Regression Results                           \n",
      "==============================================================================\n",
      "Dep. Variable:                classif   No. Observations:                 5000\n",
      "Model:                          Logit   Df Residuals:                     4992\n",
      "Method:                           MLE   Df Model:                            7\n",
      "Date:                Fri, 14 Jun 2024   Pseudo R-squ.:                  0.2826\n",
      "Time:                        22:45:13   Log-Likelihood:                -2021.7\n",
      "converged:                       True   LL-Null:                       -2818.2\n",
      "Covariance Type:            nonrobust   LLR p-value:                     0.000\n",
      "==================================================================================\n",
      "                     coef    std err          z      P>|z|      [0.025      0.975]\n",
      "----------------------------------------------------------------------------------\n",
      "const             -1.0436      0.222     -4.695      0.000      -1.479      -0.608\n",
      "idade              0.0042      0.007      0.618      0.537      -0.009       0.018\n",
      "experiencia       -0.1906      0.010    -18.767      0.000      -0.211      -0.171\n",
      "tempo_endereco    -0.0950      0.009    -10.986      0.000      -0.112      -0.078\n",
      "renda             -0.0013      0.003     -0.429      0.668      -0.007       0.005\n",
      "debito_renda       0.0938      0.010      9.032      0.000       0.073       0.114\n",
      "cred_deb           0.4389      0.037     11.977      0.000       0.367       0.511\n",
      "outros_debitos     0.0199      0.023      0.850      0.396      -0.026       0.066\n",
      "==================================================================================\n"
     ]
    },
    {
     "name": "stderr",
     "output_type": "stream",
     "text": [
      "C:\\Users\\Brind\\anaconda3\\lib\\site-packages\\statsmodels\\tsa\\tsatools.py:142: FutureWarning: In a future version of pandas all arguments of concat except for the argument 'objs' will be keyword-only\n",
      "  x = pd.concat(x[::order], 1)\n"
     ]
    }
   ],
   "source": [
    "#verificar significancia de cada variavel no modelo\n",
    "X = df[['idade', 'experiencia', 'tempo_endereco', 'renda', 'debito_renda', 'cred_deb', 'outros_debitos']]\n",
    "y = df['classif']\n",
    "\n",
    "# adicionar o intercepto\n",
    "X = sm.add_constant(X)\n",
    "\n",
    "# Ajustar o modelo logístico\n",
    "logit_model = sm.Logit(y, X)\n",
    "result = logit_model.fit()\n",
    "summary = result.summary()\n",
    "print(summary)"
   ]
  },
  {
   "cell_type": "code",
   "execution_count": 56,
   "id": "ca2a57dc",
   "metadata": {},
   "outputs": [
    {
     "name": "stdout",
     "output_type": "stream",
     "text": [
      "Optimization terminated successfully.\n",
      "         Current function value: 0.404379\n",
      "         Iterations 7\n",
      "                           Logit Regression Results                           \n",
      "==============================================================================\n",
      "Dep. Variable:                classif   No. Observations:                 5000\n",
      "Model:                          Logit   Df Residuals:                     4993\n",
      "Method:                           MLE   Df Model:                            6\n",
      "Date:                Fri, 14 Jun 2024   Pseudo R-squ.:                  0.2826\n",
      "Time:                        22:49:20   Log-Likelihood:                -2021.9\n",
      "converged:                       True   LL-Null:                       -2818.2\n",
      "Covariance Type:            nonrobust   LLR p-value:                     0.000\n",
      "==================================================================================\n",
      "                     coef    std err          z      P>|z|      [0.025      0.975]\n",
      "----------------------------------------------------------------------------------\n",
      "const             -0.9371      0.140     -6.689      0.000      -1.212      -0.663\n",
      "experiencia       -0.1893      0.010    -19.093      0.000      -0.209      -0.170\n",
      "tempo_endereco    -0.0924      0.008    -12.178      0.000      -0.107      -0.078\n",
      "renda             -0.0010      0.003     -0.343      0.731      -0.007       0.005\n",
      "debito_renda       0.0940      0.010      9.054      0.000       0.074       0.114\n",
      "cred_deb           0.4378      0.037     11.970      0.000       0.366       0.510\n",
      "outros_debitos     0.0195      0.023      0.837      0.402      -0.026       0.065\n",
      "==================================================================================\n"
     ]
    },
    {
     "name": "stderr",
     "output_type": "stream",
     "text": [
      "C:\\Users\\Brind\\anaconda3\\lib\\site-packages\\statsmodels\\tsa\\tsatools.py:142: FutureWarning: In a future version of pandas all arguments of concat except for the argument 'objs' will be keyword-only\n",
      "  x = pd.concat(x[::order], 1)\n"
     ]
    }
   ],
   "source": [
    "#verificar significancia de cada variavel no modelo - retirando idade\n",
    "X = df[['experiencia', 'tempo_endereco', 'renda', 'debito_renda', 'cred_deb', 'outros_debitos']]\n",
    "y = df['classif']\n",
    "\n",
    "# adicionar o intercepto\n",
    "X = sm.add_constant(X)\n",
    "\n",
    "# Ajustar o modelo logístico\n",
    "logit_model = sm.Logit(y, X)\n",
    "result = logit_model.fit()\n",
    "summary = result.summary()\n",
    "print(summary)"
   ]
  },
  {
   "cell_type": "code",
   "execution_count": 57,
   "id": "ac011f26",
   "metadata": {},
   "outputs": [
    {
     "name": "stdout",
     "output_type": "stream",
     "text": [
      "Optimization terminated successfully.\n",
      "         Current function value: 0.404391\n",
      "         Iterations 7\n",
      "                           Logit Regression Results                           \n",
      "==============================================================================\n",
      "Dep. Variable:                classif   No. Observations:                 5000\n",
      "Model:                          Logit   Df Residuals:                     4994\n",
      "Method:                           MLE   Df Model:                            5\n",
      "Date:                Fri, 14 Jun 2024   Pseudo R-squ.:                  0.2825\n",
      "Time:                        22:49:34   Log-Likelihood:                -2022.0\n",
      "converged:                       True   LL-Null:                       -2818.2\n",
      "Covariance Type:            nonrobust   LLR p-value:                     0.000\n",
      "==================================================================================\n",
      "                     coef    std err          z      P>|z|      [0.025      0.975]\n",
      "----------------------------------------------------------------------------------\n",
      "const             -0.9728      0.094    -10.329      0.000      -1.157      -0.788\n",
      "experiencia       -0.1898      0.010    -19.430      0.000      -0.209      -0.171\n",
      "tempo_endereco    -0.0924      0.008    -12.183      0.000      -0.107      -0.078\n",
      "debito_renda       0.0964      0.008     12.782      0.000       0.082       0.111\n",
      "cred_deb           0.4300      0.029     15.072      0.000       0.374       0.486\n",
      "outros_debitos     0.0138      0.016      0.845      0.398      -0.018       0.046\n",
      "==================================================================================\n"
     ]
    },
    {
     "name": "stderr",
     "output_type": "stream",
     "text": [
      "C:\\Users\\Brind\\anaconda3\\lib\\site-packages\\statsmodels\\tsa\\tsatools.py:142: FutureWarning: In a future version of pandas all arguments of concat except for the argument 'objs' will be keyword-only\n",
      "  x = pd.concat(x[::order], 1)\n"
     ]
    }
   ],
   "source": [
    "#verificar significancia de cada variavel no modelo - retirando renda\n",
    "X = df[['experiencia', 'tempo_endereco', 'debito_renda', 'cred_deb', 'outros_debitos']]\n",
    "y = df['classif']\n",
    "\n",
    "# adicionar o intercepto\n",
    "X = sm.add_constant(X)\n",
    "\n",
    "# Ajustar o modelo logístico\n",
    "logit_model = sm.Logit(y, X)\n",
    "result = logit_model.fit()\n",
    "summary = result.summary()\n",
    "print(summary)"
   ]
  },
  {
   "cell_type": "code",
   "execution_count": 58,
   "id": "8ebff655",
   "metadata": {},
   "outputs": [
    {
     "name": "stdout",
     "output_type": "stream",
     "text": [
      "Optimization terminated successfully.\n",
      "         Current function value: 0.404462\n",
      "         Iterations 7\n",
      "                           Logit Regression Results                           \n",
      "==============================================================================\n",
      "Dep. Variable:                classif   No. Observations:                 5000\n",
      "Model:                          Logit   Df Residuals:                     4995\n",
      "Method:                           MLE   Df Model:                            4\n",
      "Date:                Fri, 14 Jun 2024   Pseudo R-squ.:                  0.2824\n",
      "Time:                        22:49:54   Log-Likelihood:                -2022.3\n",
      "converged:                       True   LL-Null:                       -2818.2\n",
      "Covariance Type:            nonrobust   LLR p-value:                     0.000\n",
      "==================================================================================\n",
      "                     coef    std err          z      P>|z|      [0.025      0.975]\n",
      "----------------------------------------------------------------------------------\n",
      "const             -0.9904      0.092    -10.774      0.000      -1.171      -0.810\n",
      "experiencia       -0.1873      0.009    -20.167      0.000      -0.206      -0.169\n",
      "tempo_endereco    -0.0919      0.008    -12.160      0.000      -0.107      -0.077\n",
      "debito_renda       0.0993      0.007     14.703      0.000       0.086       0.113\n",
      "cred_deb           0.4353      0.028     15.614      0.000       0.381       0.490\n",
      "==================================================================================\n"
     ]
    },
    {
     "name": "stderr",
     "output_type": "stream",
     "text": [
      "C:\\Users\\Brind\\anaconda3\\lib\\site-packages\\statsmodels\\tsa\\tsatools.py:142: FutureWarning: In a future version of pandas all arguments of concat except for the argument 'objs' will be keyword-only\n",
      "  x = pd.concat(x[::order], 1)\n"
     ]
    }
   ],
   "source": [
    "#verificar significancia de cada variavel no modelo - retirando outros_debitos\n",
    "X = df[['experiencia', 'tempo_endereco', 'debito_renda', 'cred_deb']]\n",
    "y = df['classif']\n",
    "\n",
    "# adicionar o intercepto\n",
    "X = sm.add_constant(X)\n",
    "\n",
    "# Ajustar o modelo logístico\n",
    "logit_model = sm.Logit(y, X)\n",
    "result = logit_model.fit()\n",
    "summary = result.summary()\n",
    "print(summary)"
   ]
  },
  {
   "cell_type": "markdown",
   "id": "e2863372",
   "metadata": {},
   "source": [
    "# Resposta\n",
    "- As variáveis significantes são: experiencia, tempo_endereco, debito_renda, cred_deb"
   ]
  },
  {
   "cell_type": "markdown",
   "id": "7d6e72a0",
   "metadata": {},
   "source": [
    "# Questão 7\n",
    "- Calcule o KS do modelo. Esse modelo pode ser considerado bom?"
   ]
  },
  {
   "cell_type": "code",
   "execution_count": 195,
   "id": "58a15927",
   "metadata": {},
   "outputs": [],
   "source": [
    "from sklearn.linear_model import LogisticRegression\n",
    "from sklearn.model_selection import train_test_split"
   ]
  },
  {
   "cell_type": "code",
   "execution_count": 196,
   "id": "67bc8e56",
   "metadata": {},
   "outputs": [],
   "source": [
    "#separar apenas as variáveis siginicantes\n",
    "x = df[['experiencia', 'tempo_endereco', 'debito_renda', 'cred_deb']]\n",
    "y = df[['classif']]"
   ]
  },
  {
   "cell_type": "code",
   "execution_count": 197,
   "id": "7535f013",
   "metadata": {},
   "outputs": [],
   "source": [
    "#separar em test e treino\n",
    "x_train, x_test, y_train, y_test = train_test_split(x , y, test_size= 0.3 , random_state= 42)"
   ]
  },
  {
   "cell_type": "code",
   "execution_count": 198,
   "id": "af716d69",
   "metadata": {},
   "outputs": [
    {
     "data": {
      "text/html": [
       "<div>\n",
       "<style scoped>\n",
       "    .dataframe tbody tr th:only-of-type {\n",
       "        vertical-align: middle;\n",
       "    }\n",
       "\n",
       "    .dataframe tbody tr th {\n",
       "        vertical-align: top;\n",
       "    }\n",
       "\n",
       "    .dataframe thead th {\n",
       "        text-align: right;\n",
       "    }\n",
       "</style>\n",
       "<table border=\"1\" class=\"dataframe\">\n",
       "  <thead>\n",
       "    <tr style=\"text-align: right;\">\n",
       "      <th></th>\n",
       "      <th>classif</th>\n",
       "    </tr>\n",
       "  </thead>\n",
       "  <tbody>\n",
       "    <tr>\n",
       "      <th>0</th>\n",
       "      <td>0</td>\n",
       "    </tr>\n",
       "    <tr>\n",
       "      <th>1</th>\n",
       "      <td>0</td>\n",
       "    </tr>\n",
       "    <tr>\n",
       "      <th>2</th>\n",
       "      <td>0</td>\n",
       "    </tr>\n",
       "    <tr>\n",
       "      <th>3</th>\n",
       "      <td>0</td>\n",
       "    </tr>\n",
       "    <tr>\n",
       "      <th>4</th>\n",
       "      <td>0</td>\n",
       "    </tr>\n",
       "    <tr>\n",
       "      <th>...</th>\n",
       "      <td>...</td>\n",
       "    </tr>\n",
       "    <tr>\n",
       "      <th>4995</th>\n",
       "      <td>0</td>\n",
       "    </tr>\n",
       "    <tr>\n",
       "      <th>4996</th>\n",
       "      <td>0</td>\n",
       "    </tr>\n",
       "    <tr>\n",
       "      <th>4997</th>\n",
       "      <td>1</td>\n",
       "    </tr>\n",
       "    <tr>\n",
       "      <th>4998</th>\n",
       "      <td>0</td>\n",
       "    </tr>\n",
       "    <tr>\n",
       "      <th>4999</th>\n",
       "      <td>0</td>\n",
       "    </tr>\n",
       "  </tbody>\n",
       "</table>\n",
       "<p>5000 rows × 1 columns</p>\n",
       "</div>"
      ],
      "text/plain": [
       "      classif\n",
       "0           0\n",
       "1           0\n",
       "2           0\n",
       "3           0\n",
       "4           0\n",
       "...       ...\n",
       "4995        0\n",
       "4996        0\n",
       "4997        1\n",
       "4998        0\n",
       "4999        0\n",
       "\n",
       "[5000 rows x 1 columns]"
      ]
     },
     "execution_count": 198,
     "metadata": {},
     "output_type": "execute_result"
    }
   ],
   "source": [
    "y"
   ]
  },
  {
   "cell_type": "code",
   "execution_count": 205,
   "id": "f67c5f3b",
   "metadata": {},
   "outputs": [
    {
     "name": "stderr",
     "output_type": "stream",
     "text": [
      "C:\\Users\\Brind\\anaconda3\\lib\\site-packages\\sklearn\\utils\\validation.py:1111: DataConversionWarning: A column-vector y was passed when a 1d array was expected. Please change the shape of y to (n_samples, ), for example using ravel().\n",
      "  y = column_or_1d(y, warn=True)\n"
     ]
    },
    {
     "data": {
      "text/html": [
       "<style>#sk-container-id-10 {color: black;background-color: white;}#sk-container-id-10 pre{padding: 0;}#sk-container-id-10 div.sk-toggleable {background-color: white;}#sk-container-id-10 label.sk-toggleable__label {cursor: pointer;display: block;width: 100%;margin-bottom: 0;padding: 0.3em;box-sizing: border-box;text-align: center;}#sk-container-id-10 label.sk-toggleable__label-arrow:before {content: \"▸\";float: left;margin-right: 0.25em;color: #696969;}#sk-container-id-10 label.sk-toggleable__label-arrow:hover:before {color: black;}#sk-container-id-10 div.sk-estimator:hover label.sk-toggleable__label-arrow:before {color: black;}#sk-container-id-10 div.sk-toggleable__content {max-height: 0;max-width: 0;overflow: hidden;text-align: left;background-color: #f0f8ff;}#sk-container-id-10 div.sk-toggleable__content pre {margin: 0.2em;color: black;border-radius: 0.25em;background-color: #f0f8ff;}#sk-container-id-10 input.sk-toggleable__control:checked~div.sk-toggleable__content {max-height: 200px;max-width: 100%;overflow: auto;}#sk-container-id-10 input.sk-toggleable__control:checked~label.sk-toggleable__label-arrow:before {content: \"▾\";}#sk-container-id-10 div.sk-estimator input.sk-toggleable__control:checked~label.sk-toggleable__label {background-color: #d4ebff;}#sk-container-id-10 div.sk-label input.sk-toggleable__control:checked~label.sk-toggleable__label {background-color: #d4ebff;}#sk-container-id-10 input.sk-hidden--visually {border: 0;clip: rect(1px 1px 1px 1px);clip: rect(1px, 1px, 1px, 1px);height: 1px;margin: -1px;overflow: hidden;padding: 0;position: absolute;width: 1px;}#sk-container-id-10 div.sk-estimator {font-family: monospace;background-color: #f0f8ff;border: 1px dotted black;border-radius: 0.25em;box-sizing: border-box;margin-bottom: 0.5em;}#sk-container-id-10 div.sk-estimator:hover {background-color: #d4ebff;}#sk-container-id-10 div.sk-parallel-item::after {content: \"\";width: 100%;border-bottom: 1px solid gray;flex-grow: 1;}#sk-container-id-10 div.sk-label:hover label.sk-toggleable__label {background-color: #d4ebff;}#sk-container-id-10 div.sk-serial::before {content: \"\";position: absolute;border-left: 1px solid gray;box-sizing: border-box;top: 0;bottom: 0;left: 50%;z-index: 0;}#sk-container-id-10 div.sk-serial {display: flex;flex-direction: column;align-items: center;background-color: white;padding-right: 0.2em;padding-left: 0.2em;position: relative;}#sk-container-id-10 div.sk-item {position: relative;z-index: 1;}#sk-container-id-10 div.sk-parallel {display: flex;align-items: stretch;justify-content: center;background-color: white;position: relative;}#sk-container-id-10 div.sk-item::before, #sk-container-id-10 div.sk-parallel-item::before {content: \"\";position: absolute;border-left: 1px solid gray;box-sizing: border-box;top: 0;bottom: 0;left: 50%;z-index: -1;}#sk-container-id-10 div.sk-parallel-item {display: flex;flex-direction: column;z-index: 1;position: relative;background-color: white;}#sk-container-id-10 div.sk-parallel-item:first-child::after {align-self: flex-end;width: 50%;}#sk-container-id-10 div.sk-parallel-item:last-child::after {align-self: flex-start;width: 50%;}#sk-container-id-10 div.sk-parallel-item:only-child::after {width: 0;}#sk-container-id-10 div.sk-dashed-wrapped {border: 1px dashed gray;margin: 0 0.4em 0.5em 0.4em;box-sizing: border-box;padding-bottom: 0.4em;background-color: white;}#sk-container-id-10 div.sk-label label {font-family: monospace;font-weight: bold;display: inline-block;line-height: 1.2em;}#sk-container-id-10 div.sk-label-container {text-align: center;}#sk-container-id-10 div.sk-container {/* jupyter's `normalize.less` sets `[hidden] { display: none; }` but bootstrap.min.css set `[hidden] { display: none !important; }` so we also need the `!important` here to be able to override the default hidden behavior on the sphinx rendered scikit-learn.org. See: https://github.com/scikit-learn/scikit-learn/issues/21755 */display: inline-block !important;position: relative;}#sk-container-id-10 div.sk-text-repr-fallback {display: none;}</style><div id=\"sk-container-id-10\" class=\"sk-top-container\"><div class=\"sk-text-repr-fallback\"><pre>LogisticRegression()</pre><b>In a Jupyter environment, please rerun this cell to show the HTML representation or trust the notebook. <br />On GitHub, the HTML representation is unable to render, please try loading this page with nbviewer.org.</b></div><div class=\"sk-container\" hidden><div class=\"sk-item\"><div class=\"sk-estimator sk-toggleable\"><input class=\"sk-toggleable__control sk-hidden--visually\" id=\"sk-estimator-id-10\" type=\"checkbox\" checked><label for=\"sk-estimator-id-10\" class=\"sk-toggleable__label sk-toggleable__label-arrow\">LogisticRegression</label><div class=\"sk-toggleable__content\"><pre>LogisticRegression()</pre></div></div></div></div></div>"
      ],
      "text/plain": [
       "LogisticRegression()"
      ]
     },
     "execution_count": 205,
     "metadata": {},
     "output_type": "execute_result"
    }
   ],
   "source": [
    "model_lr = LogisticRegression()\n",
    "model_lr.fit(x_train, y_train)"
   ]
  },
  {
   "cell_type": "code",
   "execution_count": 206,
   "id": "6151bc8d",
   "metadata": {},
   "outputs": [
    {
     "name": "stderr",
     "output_type": "stream",
     "text": [
      "C:\\Users\\Brind\\anaconda3\\lib\\site-packages\\sklearn\\utils\\validation.py:1111: DataConversionWarning: A column-vector y was passed when a 1d array was expected. Please change the shape of y to (n_samples, ), for example using ravel().\n",
      "  y = column_or_1d(y, warn=True)\n",
      "C:\\Users\\Brind\\anaconda3\\lib\\site-packages\\sklearn\\utils\\deprecation.py:87: FutureWarning: Function plot_confusion_matrix is deprecated; Function `plot_confusion_matrix` is deprecated in 1.0 and will be removed in 1.2. Use one of the class methods: ConfusionMatrixDisplay.from_predictions or ConfusionMatrixDisplay.from_estimator.\n",
      "  warnings.warn(msg, category=FutureWarning)\n"
     ]
    },
    {
     "data": {
      "image/png": "[encoded data removed]",
      "text/plain": [
       "<Figure size 432x288 with 2 Axes>"
      ]
     },
     "metadata": {
      "needs_background": "light"
     },
     "output_type": "display_data"
    }
   ],
   "source": [
    "#observar atraves da métricas\n",
    "from sklearn.metrics import plot_confusion_matrix\n",
    "\n",
    "plot_confusion_matrix(model_lr.fit(x_train,y_train), x_test, y_test, values_format='d');"
   ]
  },
  {
   "cell_type": "code",
   "execution_count": 207,
   "id": "be5e821e",
   "metadata": {},
   "outputs": [
    {
     "name": "stdout",
     "output_type": "stream",
     "text": [
      "Acurácia (Treino): 0.8085714285714286\n",
      "Acurácia (Teste): 0.8113333333333334\n",
      "====================================\n",
      "Acurácia Balanceada (Treino): 0.6911959407411483\n",
      "Acurácia Balanceada (Teste): 0.6943439483052158\n",
      "====================================\n",
      "Precision (Treino): 0.690068493150685\n",
      "Precision (Teste): 0.6563706563706564\n",
      "====================================\n",
      "Recall (Treino): 0.4517937219730942\n",
      "Recall (Teste): 0.46703296703296704\n",
      "====================================\n",
      "F1-Score (Treino): 0.5460704607046071\n",
      "F1-Score (Teste): 0.5457463884430176\n",
      "====================================\n",
      "ROCAUC (Treino): 0.8442606742964043\n",
      "ROCAUC (Teste): 0.8391430312645102\n"
     ]
    }
   ],
   "source": [
    "from sklearn.metrics import accuracy_score, balanced_accuracy_score, precision_score, recall_score, f1_score, roc_auc_score\n",
    "\n",
    "print(f\"Acurácia (Treino): {accuracy_score(y_train, model_lr.predict(x_train))}\")\n",
    "print(f\"Acurácia (Teste): {accuracy_score(y_test, model_lr.predict(x_test))}\")\n",
    "print(\"====================================\")\n",
    "print(f\"Acurácia Balanceada (Treino): {balanced_accuracy_score(y_train, model_lr.predict(x_train))}\")\n",
    "print(f\"Acurácia Balanceada (Teste): {balanced_accuracy_score(y_test, model_lr.predict(x_test))}\")\n",
    "print(\"====================================\")\n",
    "print(f\"Precision (Treino): {precision_score(y_train, model_lr.predict(x_train))}\")\n",
    "print(f\"Precision (Teste): {precision_score(y_test, model_lr.predict(x_test))}\")\n",
    "print(\"====================================\")\n",
    "print(f\"Recall (Treino): {recall_score(y_train, model_lr.predict(x_train))}\")\n",
    "print(f\"Recall (Teste): {recall_score(y_test, model_lr.predict(x_test))}\")\n",
    "print(\"====================================\")\n",
    "print(f\"F1-Score (Treino): {f1_score(y_train, model_lr.predict(x_train))}\")\n",
    "print(f\"F1-Score (Teste): {f1_score(y_test, model_lr.predict(x_test))}\")\n",
    "print(\"====================================\")\n",
    "print(f\"ROCAUC (Treino): {roc_auc_score(y_train, model_lr.predict_proba(x_train)[:,1])}\")\n",
    "print(f\"ROCAUC (Teste): {roc_auc_score(y_test, model_lr.predict_proba(x_test)[:,1])}\")"
   ]
  },
  {
   "cell_type": "code",
   "execution_count": 209,
   "id": "9dc2e5f3",
   "metadata": {},
   "outputs": [
    {
     "data": {
      "text/plain": [
       "0.5436078006500542"
      ]
     },
     "execution_count": 209,
     "metadata": {},
     "output_type": "execute_result"
    }
   ],
   "source": [
    "y_pred_prob = model_lr.predict_proba(x_test)[:,1]\n",
    "from sklearn.metrics import roc_curve\n",
    "# calcular as taxas de verdadeiros positivos (TPR) e falsos positivos (FPR)\n",
    "fpr_sklearn, tpr_sklearn, thresholds_sklearn = roc_curve(y_test, y_pred_prob)\n",
    "\n",
    "# calcular a estatística KS como a diferença máxima entre TPR e FPR\n",
    "ks_statistic_sklearn = max(tpr_sklearn - fpr_sklearn)\n",
    "\n",
    "ks_statistic_sklearn"
   ]
  },
  {
   "cell_type": "markdown",
   "id": "5883d7c1",
   "metadata": {},
   "source": [
    "# Resposta\n",
    "- Para o modelo em específico sem retirada de outliers e sem padronização de dados, temos uma modelagem com KS de 54%, sendo um valor relativamente bom. Para melhorarmos o modelos poderiamos retirar outliers, fazer padronização dos dados e posteriormente fazer o tuning do modelo."
   ]
  },
  {
   "cell_type": "markdown",
   "id": "061479f3",
   "metadata": {},
   "source": [
    "# Questão 8\n",
    "- Faça uma tabela com as faixas de score por decis. Uma coluna deverá ter o total de bons na faixa, a segunda coluna o total de maus, a terceira coluna o total da faixa, a quarta coluna a taxa de maus da faixa (maus/total). "
   ]
  },
  {
   "cell_type": "code",
   "execution_count": 126,
   "id": "b32d5945",
   "metadata": {},
   "outputs": [
    {
     "data": {
      "text/html": [
       "<div>\n",
       "<style scoped>\n",
       "    .dataframe tbody tr th:only-of-type {\n",
       "        vertical-align: middle;\n",
       "    }\n",
       "\n",
       "    .dataframe tbody tr th {\n",
       "        vertical-align: top;\n",
       "    }\n",
       "\n",
       "    .dataframe thead th {\n",
       "        text-align: right;\n",
       "    }\n",
       "</style>\n",
       "<table border=\"1\" class=\"dataframe\">\n",
       "  <thead>\n",
       "    <tr style=\"text-align: right;\">\n",
       "      <th></th>\n",
       "      <th>proba</th>\n",
       "      <th>classe</th>\n",
       "    </tr>\n",
       "  </thead>\n",
       "  <tbody>\n",
       "  </tbody>\n",
       "</table>\n",
       "</div>"
      ],
      "text/plain": [
       "Empty DataFrame\n",
       "Columns: [proba, classe]\n",
       "Index: []"
      ]
     },
     "execution_count": 126,
     "metadata": {},
     "output_type": "execute_result"
    }
   ],
   "source": [
    "#fazer um DF com as probabilidades e os valores preditos para cada uma das linhas\n",
    "y_pred = model_lr.predict(x_test)\n",
    "df_teste = pd.DataFrame({\"proba\" : y_pred_prob, \"classe\": y_pred})\n",
    "df_teste[(df_teste['proba']<= 0.2) & (df_teste['classe'] == 1)]"
   ]
  },
  {
   "cell_type": "code",
   "execution_count": 154,
   "id": "e8f60d80",
   "metadata": {},
   "outputs": [],
   "source": [
    "#segmentando toda a base nas faixas de 0-0.2, 0.2-0.4, 0.4-0.6, 0.6-0.8 e 0.8-1\n",
    "\n",
    "faixa_02_bom = df_teste[(df_teste['proba']<= 0.2) & (df_teste['classe'] == 0)]\n",
    "faixa_02_mau = df_teste[(df_teste['proba']<= 0.2) & (df_teste['classe'] == 1)]\n",
    "faixa_04_bom = df_teste[(0.2 < df_teste['proba'])\n",
    "                        & (df_teste['proba']<=0.4)\n",
    "                        & (df_teste['classe'] == 0)]\n",
    "faixa_04_mau = df_teste[(0.2 < df_teste['proba'])\n",
    "                        & (df_teste['proba']<=0.4)\n",
    "                        & (df_teste['classe'] == 1)]\n",
    "faixa_06_bom = df_teste[(0.4 < df_teste['proba'])\n",
    "                        & (df_teste['proba']<=0.6)\n",
    "                        & (df_teste['classe'] == 0)]\n",
    "faixa_06_mau = df_teste[(0.4 < df_teste['proba'])\n",
    "                        & (df_teste['proba']<=0.6)\n",
    "                        & (df_teste['classe'] == 1)]\n",
    "faixa_08_bom = df_teste[(0.6 < df_teste['proba'])\n",
    "                        & (df_teste['proba']<=0.8)\n",
    "                        & (df_teste['classe'] == 0)]\n",
    "faixa_08_mau = df_teste[(0.6 < df_teste['proba'])\n",
    "                        & (df_teste['proba']<=0.8)\n",
    "                        & (df_teste['classe'] == 1)]\n",
    "faixa_1_bom = df_teste[(0.8 < df_teste['proba'])\n",
    "                        & (df_teste['proba']<=1)\n",
    "                        & (df_teste['classe'] == 0)]\n",
    "faixa_1_mau = df_teste[(0.8 < df_teste['proba'])\n",
    "                        & (df_teste['proba']<=1)\n",
    "                        & (df_teste['classe'] == 1)]\n",
    "total_bom = df_teste[df_teste['classe'] == 0] \n",
    "total_mau = df_teste[df_teste['classe'] == 1] "
   ]
  },
  {
   "cell_type": "code",
   "execution_count": 165,
   "id": "62a69f01",
   "metadata": {},
   "outputs": [],
   "source": [
    "#fazer todos os valores para colocar eles no DF\n",
    "contagem_bons = [faixa_02_bom['classe'].count(),faixa_04_bom['classe'].count(),faixa_06_bom['classe'].count()\n",
    "                ,faixa_08_bom['classe'].count(),faixa_1_bom['classe'].count(), total_bom['classe'].count()]\n",
    "contagem_maus = [faixa_02_mau['classe'].count(),faixa_04_mau['classe'].count(),faixa_06_mau['classe'].count()\n",
    "                ,faixa_08_mau['classe'].count(),faixa_1_mau['classe'].count(), total_mau['classe'].count()]\n",
    "total_linha = [faixa_02_bom['classe'].count() + faixa_02_mau['classe'].count(),\n",
    "              faixa_04_bom['classe'].count() + faixa_04_mau['classe'].count(),\n",
    "              faixa_06_bom['classe'].count() + faixa_06_mau['classe'].count(),\n",
    "              faixa_08_bom['classe'].count() + faixa_08_mau['classe'].count(),\n",
    "              faixa_1_bom['classe'].count() + faixa_1_mau['classe'].count(),\n",
    "              total_bom['classe'].count() + total_mau['classe'].count()]\n",
    "taxa_mau_total = [faixa_02_mau['classe'].count()/total_mau['classe'].count(),\n",
    "                 faixa_04_mau['classe'].count()/total_mau['classe'].count(),\n",
    "                 faixa_06_mau['classe'].count()/total_mau['classe'].count(),\n",
    "                 faixa_08_mau['classe'].count()/total_mau['classe'].count(),\n",
    "                 faixa_1_mau['classe'].count()/total_mau['classe'].count(),\n",
    "                 0]\n",
    "\n",
    "faixa = ['0.0-0.2', '0.2-0.4', '0.4-0.6','0.6-0.8', '0.8-1.0', 'total']\n",
    "dicio = {'faixa': faixa,\n",
    "        'bons' : contagem_bons,\n",
    "        'maus' : contagem_maus,\n",
    "        'total_linha' : total_linha,\n",
    "        'taxa' : taxa_mau_total.format()}"
   ]
  },
  {
   "cell_type": "markdown",
   "id": "dad9a6fe",
   "metadata": {},
   "source": [
    "# Resposta"
   ]
  },
  {
   "cell_type": "code",
   "execution_count": 166,
   "id": "03b7652e",
   "metadata": {},
   "outputs": [
    {
     "data": {
      "text/html": [
       "<div>\n",
       "<style scoped>\n",
       "    .dataframe tbody tr th:only-of-type {\n",
       "        vertical-align: middle;\n",
       "    }\n",
       "\n",
       "    .dataframe tbody tr th {\n",
       "        vertical-align: top;\n",
       "    }\n",
       "\n",
       "    .dataframe thead th {\n",
       "        text-align: right;\n",
       "    }\n",
       "</style>\n",
       "<table border=\"1\" class=\"dataframe\">\n",
       "  <thead>\n",
       "    <tr style=\"text-align: right;\">\n",
       "      <th></th>\n",
       "      <th>faixa</th>\n",
       "      <th>bons</th>\n",
       "      <th>maus</th>\n",
       "      <th>total_linha</th>\n",
       "      <th>taxa</th>\n",
       "    </tr>\n",
       "  </thead>\n",
       "  <tbody>\n",
       "    <tr>\n",
       "      <th>0</th>\n",
       "      <td>0.0-0.2</td>\n",
       "      <td>812</td>\n",
       "      <td>0</td>\n",
       "      <td>812</td>\n",
       "      <td>0.000000</td>\n",
       "    </tr>\n",
       "    <tr>\n",
       "      <th>1</th>\n",
       "      <td>0.2-0.4</td>\n",
       "      <td>325</td>\n",
       "      <td>0</td>\n",
       "      <td>325</td>\n",
       "      <td>0.000000</td>\n",
       "    </tr>\n",
       "    <tr>\n",
       "      <th>2</th>\n",
       "      <td>0.4-0.6</td>\n",
       "      <td>104</td>\n",
       "      <td>74</td>\n",
       "      <td>178</td>\n",
       "      <td>0.285714</td>\n",
       "    </tr>\n",
       "    <tr>\n",
       "      <th>3</th>\n",
       "      <td>0.6-0.8</td>\n",
       "      <td>0</td>\n",
       "      <td>122</td>\n",
       "      <td>122</td>\n",
       "      <td>0.471042</td>\n",
       "    </tr>\n",
       "    <tr>\n",
       "      <th>4</th>\n",
       "      <td>0.8-1.0</td>\n",
       "      <td>0</td>\n",
       "      <td>63</td>\n",
       "      <td>63</td>\n",
       "      <td>0.243243</td>\n",
       "    </tr>\n",
       "    <tr>\n",
       "      <th>5</th>\n",
       "      <td>total</td>\n",
       "      <td>1241</td>\n",
       "      <td>259</td>\n",
       "      <td>1500</td>\n",
       "      <td>0.000000</td>\n",
       "    </tr>\n",
       "  </tbody>\n",
       "</table>\n",
       "</div>"
      ],
      "text/plain": [
       "     faixa  bons  maus  total_linha      taxa\n",
       "0  0.0-0.2   812     0          812  0.000000\n",
       "1  0.2-0.4   325     0          325  0.000000\n",
       "2  0.4-0.6   104    74          178  0.285714\n",
       "3  0.6-0.8     0   122          122  0.471042\n",
       "4  0.8-1.0     0    63           63  0.243243\n",
       "5    total  1241   259         1500  0.000000"
      ]
     },
     "execution_count": 166,
     "metadata": {},
     "output_type": "execute_result"
    }
   ],
   "source": [
    "pd.DataFrame(dicio)"
   ]
  }
 ],
 "metadata": {
  "kernelspec": {
   "display_name": "Python 3 (ipykernel)",
   "language": "python",
   "name": "python3"
  },
  "language_info": {
   "codemirror_mode": {
    "name": "ipython",
    "version": 3
   },
   "file_extension": ".py",
   "mimetype": "text/x-python",
   "name": "python",
   "nbconvert_exporter": "python",
   "pygments_lexer": "ipython3",
   "version": "3.9.7"
  }
 },
 "nbformat": 4,
 "nbformat_minor": 5
}
